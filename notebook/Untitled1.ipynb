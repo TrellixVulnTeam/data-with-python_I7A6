{
 "cells": [
  {
   "cell_type": "code",
   "execution_count": 1,
   "id": "87163856-d3cd-40ea-ab00-05b9e2467109",
   "metadata": {},
   "outputs": [],
   "source": [
    "import pandas as pd\n",
    "import pandasql as ps"
   ]
  },
  {
   "cell_type": "code",
   "execution_count": 3,
   "id": "daca8760-cad8-4c7e-bceb-da940e364219",
   "metadata": {},
   "outputs": [
    {
     "name": "stdout",
     "output_type": "stream",
     "text": [
      "  month  product_sales  service_sales  total_sales\n",
      "0   jan            600            500         1100\n",
      "1   feb            800            400         1200\n",
      "2   mar            300            400          700\n",
      "3   apr            400            200          600\n",
      "4   may            500            350          850\n",
      "5  june            700            250          950\n"
     ]
    }
   ],
   "source": [
    "my_df = pd.read_csv(\"./sources/my-data-sh.csv\")\n",
    "print(my_df)"
   ]
  },
  {
   "cell_type": "code",
   "execution_count": null,
   "id": "e6e8a610-6eeb-41ec-b1b8-6cfd7e71ed9e",
   "metadata": {},
   "outputs": [],
   "source": []
  }
 ],
 "metadata": {
  "kernelspec": {
   "display_name": "Python 3 (ipykernel)",
   "language": "python",
   "name": "python3"
  },
  "language_info": {
   "codemirror_mode": {
    "name": "ipython",
    "version": 3
   },
   "file_extension": ".py",
   "mimetype": "text/x-python",
   "name": "python",
   "nbconvert_exporter": "python",
   "pygments_lexer": "ipython3",
   "version": "3.10.5"
  }
 },
 "nbformat": 4,
 "nbformat_minor": 5
}
