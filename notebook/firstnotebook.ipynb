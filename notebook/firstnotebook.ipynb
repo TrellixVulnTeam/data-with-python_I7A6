{
 "cells": [
  {
   "cell_type": "code",
   "execution_count": 9,
   "id": "5ed5fc7f-cf20-4de9-b836-bb93159eaf84",
   "metadata": {},
   "outputs": [
    {
     "name": "stdout",
     "output_type": "stream",
     "text": [
      "Requirement already satisfied: numpy in /Users/kellyluu/dev/Unit_4/data-with-python/datapy/lib/python3.10/site-packages (1.23.0)\n",
      "Requirement already satisfied: pyarrow in /Users/kellyluu/dev/Unit_4/data-with-python/datapy/lib/python3.10/site-packages (8.0.0)\n",
      "Requirement already satisfied: pandas in /Users/kellyluu/dev/Unit_4/data-with-python/datapy/lib/python3.10/site-packages (1.4.3)\n",
      "Requirement already satisfied: python-dateutil>=2.8.1 in /Users/kellyluu/dev/Unit_4/data-with-python/datapy/lib/python3.10/site-packages (from pandas) (2.8.2)\n",
      "Requirement already satisfied: pytz>=2020.1 in /Users/kellyluu/dev/Unit_4/data-with-python/datapy/lib/python3.10/site-packages (from pandas) (2022.1)\n",
      "Requirement already satisfied: six>=1.5 in /Users/kellyluu/dev/Unit_4/data-with-python/datapy/lib/python3.10/site-packages (from python-dateutil>=2.8.1->pandas) (1.16.0)\n",
      "\u001b[33mWARNING: You are using pip version 22.0.4; however, version 22.1.2 is available.\n",
      "You should consider upgrading via the '/Users/kellyluu/dev/Unit_4/data-with-python/datapy/bin/python3 -m pip install --upgrade pip' command.\u001b[0m\u001b[33m\n",
      "\u001b[0mNote: you may need to restart the kernel to use updated packages.\n"
     ]
    }
   ],
   "source": [
    "pip install numpy pyarrow pandas"
   ]
  },
  {
   "cell_type": "code",
   "execution_count": 10,
   "id": "de5e9d6f-3cbc-4a31-a702-da353ddc1cd4",
   "metadata": {},
   "outputs": [],
   "source": [
    "import numpy as np\n",
    "import pandas as pd\n",
    "import pyarrow as pa\n",
    "from pyarrow import csv"
   ]
  },
  {
   "cell_type": "code",
   "execution_count": 11,
   "id": "a70bae21-d786-436c-ab9c-54b755c7c534",
   "metadata": {},
   "outputs": [
    {
     "name": "stdout",
     "output_type": "stream",
     "text": [
      "<module 'numpy' from '/Users/kellyluu/dev/Unit_4/data-with-python/datapy/lib/python3.10/site-packages/numpy/__init__.py'>\n"
     ]
    }
   ],
   "source": [
    "print(np)"
   ]
  },
  {
   "cell_type": "code",
   "execution_count": 12,
   "id": "5bcd18b7-4704-4a3c-86e2-1ef9ec30e473",
   "metadata": {},
   "outputs": [
    {
     "name": "stdout",
     "output_type": "stream",
     "text": [
      "[[1, 1], [1, 1], [1, 1]]\n"
     ]
    }
   ],
   "source": [
    "cheese = [[1,1],[1,1],[1,1]]\n",
    "print(cheese)"
   ]
  },
  {
   "cell_type": "code",
   "execution_count": 13,
   "id": "d71149c0-eb05-4ffe-8763-04d35fa359f1",
   "metadata": {},
   "outputs": [
    {
     "name": "stdout",
     "output_type": "stream",
     "text": [
      "[[1, 1], [1, 1], [1, 1]]\n"
     ]
    }
   ],
   "source": [
    "print(cheese)"
   ]
  },
  {
   "cell_type": "code",
   "execution_count": 14,
   "id": "80f6d458-890d-4622-9934-471c0eecefcc",
   "metadata": {},
   "outputs": [
    {
     "name": "stdout",
     "output_type": "stream",
     "text": [
      "[ 1  2  3  4  5  6  7  8  9 10]\n"
     ]
    }
   ],
   "source": [
    "nparr1 =np.array([1,2,3,4,5])\n",
    "nparr2 = np.array([6,7,8,9,10])\n",
    "nparr3 = np.concatenate((nparr1, nparr2))\n",
    "print (nparr3)"
   ]
  },
  {
   "cell_type": "code",
   "execution_count": 16,
   "id": "5e176f49-2836-438d-b2dc-ff9d00f2483c",
   "metadata": {},
   "outputs": [
    {
     "name": "stdout",
     "output_type": "stream",
     "text": [
      "pyarrow.Table\n",
      "id: int64\n",
      "name: string\n",
      "age: int64\n",
      "----\n",
      "id: [[1,2,3]]\n",
      "name: [[\"John\",\"Steve\",\"Stacy\"]]\n",
      "age: [[42,32,20]]\n"
     ]
    }
   ],
   "source": [
    "csvtable = csv.read_csv(\"sources/data.csv\")\n",
    "print(csvtable)"
   ]
  },
  {
   "cell_type": "code",
   "execution_count": 17,
   "id": "b54fd53a-52c8-49a6-b63c-b20f50870a35",
   "metadata": {},
   "outputs": [],
   "source": [
    "import pyarrow.parquet as pq"
   ]
  },
  {
   "cell_type": "code",
   "execution_count": 18,
   "id": "faea8b57-c61e-45e9-b347-f96943d98f38",
   "metadata": {},
   "outputs": [],
   "source": [
    "pq.write_table(table=csvtable, where=\"sources/csvdata.parquet\")"
   ]
  },
  {
   "cell_type": "code",
   "execution_count": 19,
   "id": "3e4cbca2-5c1e-4035-83c1-fa742a52259b",
   "metadata": {},
   "outputs": [],
   "source": [
    "pqtable = pq.read_table(\"sources/csvdata.parquet\")"
   ]
  },
  {
   "cell_type": "code",
   "execution_count": 20,
   "id": "c524f67f-e971-4201-ab44-9db18dcf2dd3",
   "metadata": {},
   "outputs": [
    {
     "name": "stdout",
     "output_type": "stream",
     "text": [
      "pyarrow.Table\n",
      "id: int64\n",
      "name: string\n",
      "age: int64\n",
      "----\n",
      "id: [[1,2,3]]\n",
      "name: [[\"John\",\"Steve\",\"Stacy\"]]\n",
      "age: [[42,32,20]]\n"
     ]
    }
   ],
   "source": [
    "print(pqtable)"
   ]
  },
  {
   "cell_type": "code",
   "execution_count": 21,
   "id": "1153a217-6463-4266-a505-2da406086833",
   "metadata": {},
   "outputs": [
    {
     "name": "stdout",
     "output_type": "stream",
     "text": [
      "pyarrow.Table\n",
      "id: int64\n",
      "name: string\n",
      "age: int64\n",
      "----\n",
      "id: [[1,2,3]]\n",
      "name: [[\"John\",\"John\",\"John\"]]\n",
      "age: [[42,42,42]]\n"
     ]
    }
   ],
   "source": [
    "from pyarrow import json\n",
    "table2 = json.read_json(\"sources/data.json\")\n",
    "print(table2)"
   ]
  },
  {
   "cell_type": "code",
   "execution_count": 23,
   "id": "a99240b5-1d37-4373-ab90-1949328d36ac",
   "metadata": {},
   "outputs": [
    {
     "name": "stdout",
     "output_type": "stream",
     "text": [
      "   id  name  age\n",
      "0   1  John   42\n",
      "1   2  John   42\n",
      "2   3  John   42\n"
     ]
    }
   ],
   "source": [
    "pandastable = table2.to_pandas()\n",
    "print(pandastable)"
   ]
  },
  {
   "cell_type": "code",
   "execution_count": null,
   "id": "9cd091bc-ca56-40e7-86e8-fd38b18e4226",
   "metadata": {},
   "outputs": [],
   "source": []
  }
 ],
 "metadata": {
  "kernelspec": {
   "display_name": "Python 3 (ipykernel)",
   "language": "python",
   "name": "python3"
  },
  "language_info": {
   "codemirror_mode": {
    "name": "ipython",
    "version": 3
   },
   "file_extension": ".py",
   "mimetype": "text/x-python",
   "name": "python",
   "nbconvert_exporter": "python",
   "pygments_lexer": "ipython3",
   "version": "3.10.5"
  }
 },
 "nbformat": 4,
 "nbformat_minor": 5
}
